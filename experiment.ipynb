{
 "cells": [
  {
   "cell_type": "code",
   "execution_count": 1,
   "metadata": {},
   "outputs": [
    {
     "name": "stdout",
     "output_type": "stream",
     "text": [
      "1\n",
      "2\n",
      "3\n",
      "4\n",
      "5\n",
      "6\n"
     ]
    }
   ],
   "source": [
    "elem = [1,2,3,4,5,6]\n",
    "if type(elem) == list or type(elem) == tuple or type(elem) == str:\n",
    "    internal_idx = 0\n",
    "    while internal_idx < len(elem):\n",
    "        print(elem[internal_idx])\n",
    "        internal_idx += 1\n",
    "        \n",
    "else:\n",
    "    print(elem)"
   ]
  },
  {
   "cell_type": "code",
   "execution_count": 7,
   "metadata": {},
   "outputs": [
    {
     "data": {
      "text/plain": [
       "6"
      ]
     },
     "execution_count": 7,
     "metadata": {},
     "output_type": "execute_result"
    }
   ],
   "source": [
    "test_fun(1,2,3)"
   ]
  },
  {
   "cell_type": "code",
   "execution_count": 16,
   "metadata": {},
   "outputs": [
    {
     "name": "stdout",
     "output_type": "stream",
     "text": [
      "360\n"
     ]
    }
   ],
   "source": [
    " sum = 0\n",
    "s  = int(input(\"Enter start value :\"))\n",
    "e = int(input(\"Enter end value :\"))\n",
    "for i in range(s ,e+1):\n",
    "\n",
    "        sum = sum+i\n",
    "\n",
    "\n",
    "\n",
    "print(sum)"
   ]
  },
  {
   "cell_type": "code",
   "execution_count": 4,
   "metadata": {},
   "outputs": [],
   "source": [
    "def test_fun(param1, param2, *params):\n",
    "    tmp = 1\n",
    "    for i in params:\n",
    "        tmp *= i\n",
    "    return param1 *param2 * tmp "
   ]
  },
  {
   "cell_type": "code",
   "execution_count": 12,
   "metadata": {},
   "outputs": [
    {
     "name": "stdout",
     "output_type": "stream",
     "text": [
      "[1, 2, 6, 8, 10, 12, 19, 35, 41]\n"
     ]
    }
   ],
   "source": [
    "list1 = [41,2,12,6,35,8,10,1,19]\n",
    "n = len(list1)\n",
    "\n",
    "for i in range(n):\n",
    " for j in range(i+1 , n): \n",
    "    if list1[i] > list1[j]:\n",
    "        list1[i],list1[j]= list1[j],list1[i]\n",
    "print(list1)\n"
   ]
  },
  {
   "cell_type": "code",
   "execution_count": 23,
   "metadata": {},
   "outputs": [
    {
     "name": "stdout",
     "output_type": "stream",
     "text": [
      "1 else\n",
      "1 else\n",
      "2\n",
      "1 else\n",
      "3\n",
      "2\n",
      "4\n",
      "1 else\n",
      "2\n",
      "3\n",
      "4\n",
      "1 else\n",
      "2\n",
      "5\n",
      "n\n"
     ]
    }
   ],
   "source": [
    "s = \"itininiytnnhhn\" \n",
    "ch = {}\n",
    "for i in s:\n",
    "    if i in ch:\n",
    "        ch[i] += 1\n",
    "        print(ch[i])\n",
    "    else:\n",
    "        ch[i] = 1\n",
    "        print(ch[i],\"else\")\n",
    "# print(ch)\n",
    "#{'i': 4, 't': 2, 'n': 5, 'y': 1, 'h':2} \n",
    "max_char = max(ch, key = ch.get)\n",
    "print (max_char)"
   ]
  }
 ],
 "metadata": {
  "kernelspec": {
   "display_name": "Python 3",
   "language": "python",
   "name": "python3"
  },
  "language_info": {
   "codemirror_mode": {
    "name": "ipython",
    "version": 3
   },
   "file_extension": ".py",
   "mimetype": "text/x-python",
   "name": "python",
   "nbconvert_exporter": "python",
   "pygments_lexer": "ipython3",
   "version": "3.12.1"
  }
 },
 "nbformat": 4,
 "nbformat_minor": 2
}
