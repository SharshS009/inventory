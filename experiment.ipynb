{
 "cells": [
  {
   "cell_type": "code",
   "execution_count": 1,
   "metadata": {},
   "outputs": [
    {
     "name": "stdout",
     "output_type": "stream",
     "text": [
      "1\n",
      "2\n",
      "3\n",
      "4\n",
      "5\n",
      "6\n"
     ]
    }
   ],
   "source": [
    "elem = [1,2,3,4,5,6]\n",
    "if type(elem) == list or type(elem) == tuple or type(elem) == str:\n",
    "    internal_idx = 0\n",
    "    while internal_idx < len(elem):\n",
    "        print(elem[internal_idx])\n",
    "        internal_idx += 1\n",
    "      \n",
    "else:\n",
    "    print(elem)"
   ]
  },
  {
   "cell_type": "code",
   "execution_count": 7,
   "metadata": {},
   "outputs": [
    {
     "data": {
      "text/plain": [
       "6"
      ]
     },
     "execution_count": 7,
     "metadata": {},
     "output_type": "execute_result"
    }
   ],
   "source": [
    "test_fun(1,2,3)"
   ]
  },
  {
   "cell_type": "code",
   "execution_count": 16,
   "metadata": {},
   "outputs": [
    {
     "name": "stdout",
     "output_type": "stream",
     "text": [
      "360\n"
     ]
    }
   ],
   "source": [
    " sum = 0\n",
    "s  = int(input(\"Enter start value :\"))\n",
    "e = int(input(\"Enter end value :\"))\n",
    "for i in range(s ,e+1):\n",
    "\n",
    "        sum = sum+i\n",
    "print(sum)"
   ]
  },
  {
   "cell_type": "code",
   "execution_count": 4,
   "metadata": {},
   "outputs": [],
   "source": [
    "def test_fun(param1, param2, *params):\n",
    "    tmp = 1\n",
    "    for i in params:\n",
    "        tmp *= i\n",
    "    return param1 *param2 * tmp "
   ]
  },
  {
   "cell_type": "code",
   "execution_count": 12,
   "metadata": {},
   "outputs": [
    {
     "name": "stdout",
     "output_type": "stream",
     "text": [
      "[1, 2, 6, 8, 10, 12, 19, 35, 41]\n"
     ]
    }
   ],
   "source": [
    "list1 = [41,2,12,6,35,8,10,1,19]\n",
    "n = len(list1)\n",
    "\n",
    "for i in range(n):\n",
    " for j in range(i+1 , n): \n",
    "    if list1[i] > list1[j]:\n",
    "        list1[i],list1[j]= list1[j],list1[i]\n",
    "print(list1)\n"
   ]
  },
  {
   "cell_type": "code",
   "execution_count": 1,
   "metadata": {},
   "outputs": [
    {
     "data": {
      "text/html": [
       "<div>\n",
       "<style scoped>\n",
       "    .dataframe tbody tr th:only-of-type {\n",
       "        vertical-align: middle;\n",
       "    }\n",
       "\n",
       "    .dataframe tbody tr th {\n",
       "        vertical-align: top;\n",
       "    }\n",
       "\n",
       "    .dataframe thead th {\n",
       "        text-align: right;\n",
       "    }\n",
       "</style>\n",
       "<table border=\"1\" class=\"dataframe\">\n",
       "  <thead>\n",
       "    <tr style=\"text-align: right;\">\n",
       "      <th></th>\n",
       "      <th>Title</th>\n",
       "      <th>Company</th>\n",
       "      <th>Location</th>\n",
       "      <th>Type of Positions</th>\n",
       "      <th>Job Description</th>\n",
       "      <th>Salary</th>\n",
       "      <th>Identified_Skills</th>\n",
       "    </tr>\n",
       "  </thead>\n",
       "  <tbody>\n",
       "    <tr>\n",
       "      <th>0</th>\n",
       "      <td>Staff Applied Scientist, Marketplace</td>\n",
       "      <td>ThredUp Inc.</td>\n",
       "      <td>CA</td>\n",
       "      <td>Full-time</td>\n",
       "      <td>\\nAbout thredUP thredUP is transforming resale...</td>\n",
       "      <td>190000.0</td>\n",
       "      <td>['python', 'machine learning', 'aws', 'sql']</td>\n",
       "    </tr>\n",
       "    <tr>\n",
       "      <th>13</th>\n",
       "      <td>Statistician (Direct Hire Authority)</td>\n",
       "      <td>US Food and Nutrition Service</td>\n",
       "      <td>CA</td>\n",
       "      <td>Full-time</td>\n",
       "      <td>\\n\\nDuties\\n\\nDevelops, analyzes and evaluates...</td>\n",
       "      <td>121873.0</td>\n",
       "      <td>[]</td>\n",
       "    </tr>\n",
       "    <tr>\n",
       "      <th>15</th>\n",
       "      <td>Senior Data Scientist, 5+ Years of Experience</td>\n",
       "      <td>Snapchat</td>\n",
       "      <td>CA</td>\n",
       "      <td>Full-time</td>\n",
       "      <td>\\n\\n\\n   Snap Inc.\\n   is a camera company. We...</td>\n",
       "      <td>174000.0</td>\n",
       "      <td>['python', 'machine learning', 'sql']</td>\n",
       "    </tr>\n",
       "    <tr>\n",
       "      <th>18</th>\n",
       "      <td>Sr. Risk Adjustment Data Analyst, Medicare Adv...</td>\n",
       "      <td>UCLA Health</td>\n",
       "      <td>CA</td>\n",
       "      <td>Full-time</td>\n",
       "      <td>\\n\\nDescription\\n Take on a key role within an...</td>\n",
       "      <td>78800.0</td>\n",
       "      <td>['python', 'tableau', 'sql']</td>\n",
       "    </tr>\n",
       "    <tr>\n",
       "      <th>22</th>\n",
       "      <td>Sr. Director, Data Science and Machine Learning</td>\n",
       "      <td>Centerfield</td>\n",
       "      <td>CA</td>\n",
       "      <td>Full-time</td>\n",
       "      <td>\\n\\nHi, We're Centerfield. \\n\\n\\n  Super-power...</td>\n",
       "      <td>125000.0</td>\n",
       "      <td>['machine learning', 'tableau']</td>\n",
       "    </tr>\n",
       "    <tr>\n",
       "      <th>...</th>\n",
       "      <td>...</td>\n",
       "      <td>...</td>\n",
       "      <td>...</td>\n",
       "      <td>...</td>\n",
       "      <td>...</td>\n",
       "      <td>...</td>\n",
       "      <td>...</td>\n",
       "    </tr>\n",
       "    <tr>\n",
       "      <th>682</th>\n",
       "      <td>Senior Staff AI Data Engineer</td>\n",
       "      <td>Recruiting From Scratch</td>\n",
       "      <td>CA</td>\n",
       "      <td>Full-time</td>\n",
       "      <td>\\n\\n\\nWho is \\nRecruiting from Scratch \\n: \\n\\...</td>\n",
       "      <td>160000.0</td>\n",
       "      <td>['python', 'pandas', 'machine learning', 'aws'...</td>\n",
       "    </tr>\n",
       "    <tr>\n",
       "      <th>683</th>\n",
       "      <td>Senior Staff AI Data Engineer</td>\n",
       "      <td>Recruiting From Scratch</td>\n",
       "      <td>CA</td>\n",
       "      <td>Full-time</td>\n",
       "      <td>\\n\\n\\nWho is \\nRecruiting from Scratch \\n: \\n\\...</td>\n",
       "      <td>160000.0</td>\n",
       "      <td>['python', 'pandas', 'machine learning', 'aws'...</td>\n",
       "    </tr>\n",
       "    <tr>\n",
       "      <th>685</th>\n",
       "      <td>Senior Staff AI Data Engineer</td>\n",
       "      <td>Recruiting From Scratch</td>\n",
       "      <td>CA</td>\n",
       "      <td>Full-time</td>\n",
       "      <td>\\n\\n\\nWho is \\nRecruiting from Scratch \\n: \\n\\...</td>\n",
       "      <td>160000.0</td>\n",
       "      <td>['python', 'pandas', 'machine learning', 'aws'...</td>\n",
       "    </tr>\n",
       "    <tr>\n",
       "      <th>690</th>\n",
       "      <td>Senior Staff AI Data Engineer</td>\n",
       "      <td>Recruiting From Scratch</td>\n",
       "      <td>CA</td>\n",
       "      <td>Full-time</td>\n",
       "      <td>\\n\\n\\nWho is \\nRecruiting from Scratch \\n: \\n\\...</td>\n",
       "      <td>160000.0</td>\n",
       "      <td>['python', 'pandas', 'machine learning', 'aws'...</td>\n",
       "    </tr>\n",
       "    <tr>\n",
       "      <th>691</th>\n",
       "      <td>Senior Staff AI Data Engineer</td>\n",
       "      <td>Recruiting From Scratch</td>\n",
       "      <td>CA</td>\n",
       "      <td>Full-time</td>\n",
       "      <td>\\n\\n\\nWho is \\nRecruiting from Scratch \\n: \\n\\...</td>\n",
       "      <td>160000.0</td>\n",
       "      <td>['python', 'pandas', 'machine learning', 'aws'...</td>\n",
       "    </tr>\n",
       "  </tbody>\n",
       "</table>\n",
       "<p>228 rows × 7 columns</p>\n",
       "</div>"
      ],
      "text/plain": [
       "                                                 Title  \\\n",
       "0                 Staff Applied Scientist, Marketplace   \n",
       "13                Statistician (Direct Hire Authority)   \n",
       "15       Senior Data Scientist, 5+ Years of Experience   \n",
       "18   Sr. Risk Adjustment Data Analyst, Medicare Adv...   \n",
       "22     Sr. Director, Data Science and Machine Learning   \n",
       "..                                                 ...   \n",
       "682                      Senior Staff AI Data Engineer   \n",
       "683                      Senior Staff AI Data Engineer   \n",
       "685                      Senior Staff AI Data Engineer   \n",
       "690                      Senior Staff AI Data Engineer   \n",
       "691                      Senior Staff AI Data Engineer   \n",
       "\n",
       "                           Company Location Type of Positions  \\\n",
       "0                     ThredUp Inc.       CA         Full-time   \n",
       "13   US Food and Nutrition Service       CA         Full-time   \n",
       "15                        Snapchat       CA         Full-time   \n",
       "18                     UCLA Health       CA         Full-time   \n",
       "22                     Centerfield       CA         Full-time   \n",
       "..                             ...      ...               ...   \n",
       "682        Recruiting From Scratch       CA         Full-time   \n",
       "683        Recruiting From Scratch       CA         Full-time   \n",
       "685        Recruiting From Scratch       CA         Full-time   \n",
       "690        Recruiting From Scratch       CA         Full-time   \n",
       "691        Recruiting From Scratch       CA         Full-time   \n",
       "\n",
       "                                       Job Description    Salary  \\\n",
       "0    \\nAbout thredUP thredUP is transforming resale...  190000.0   \n",
       "13   \\n\\nDuties\\n\\nDevelops, analyzes and evaluates...  121873.0   \n",
       "15   \\n\\n\\n   Snap Inc.\\n   is a camera company. We...  174000.0   \n",
       "18   \\n\\nDescription\\n Take on a key role within an...   78800.0   \n",
       "22   \\n\\nHi, We're Centerfield. \\n\\n\\n  Super-power...  125000.0   \n",
       "..                                                 ...       ...   \n",
       "682  \\n\\n\\nWho is \\nRecruiting from Scratch \\n: \\n\\...  160000.0   \n",
       "683  \\n\\n\\nWho is \\nRecruiting from Scratch \\n: \\n\\...  160000.0   \n",
       "685  \\n\\n\\nWho is \\nRecruiting from Scratch \\n: \\n\\...  160000.0   \n",
       "690  \\n\\n\\nWho is \\nRecruiting from Scratch \\n: \\n\\...  160000.0   \n",
       "691  \\n\\n\\nWho is \\nRecruiting from Scratch \\n: \\n\\...  160000.0   \n",
       "\n",
       "                                     Identified_Skills  \n",
       "0         ['python', 'machine learning', 'aws', 'sql']  \n",
       "13                                                  []  \n",
       "15               ['python', 'machine learning', 'sql']  \n",
       "18                        ['python', 'tableau', 'sql']  \n",
       "22                     ['machine learning', 'tableau']  \n",
       "..                                                 ...  \n",
       "682  ['python', 'pandas', 'machine learning', 'aws'...  \n",
       "683  ['python', 'pandas', 'machine learning', 'aws'...  \n",
       "685  ['python', 'pandas', 'machine learning', 'aws'...  \n",
       "690  ['python', 'pandas', 'machine learning', 'aws'...  \n",
       "691  ['python', 'pandas', 'machine learning', 'aws'...  \n",
       "\n",
       "[228 rows x 7 columns]"
      ]
     },
     "execution_count": 1,
     "metadata": {},
     "output_type": "execute_result"
    }
   ],
   "source": [
    "import numpy as np\n",
    "import pandas as pd \n",
    "df = pd.read_csv(\"C:\\\\Users\\\\DELL\\\\Downloads\\\\archive\\\\final_job_list.csv\")\n",
    "count = df['Location'].value_counts()\n",
    "highestcount = count.idxmax()\n",
    "df[df['Location'] == highestcount]"
   ]
  },
  {
   "cell_type": "code",
   "execution_count": 23,
   "metadata": {},
   "outputs": [
    {
     "name": "stdout",
     "output_type": "stream",
     "text": [
      "1 else\n",
      "1 else\n",
      "2\n",
      "1 else\n",
      "3\n",
      "2\n",
      "4\n",
      "1 else\n",
      "2\n",
      "3\n",
      "4\n",
      "1 else\n",
      "2\n",
      "5\n",
      "n\n"
     ]
    }
   ],
   "source": [
    "s = \"itininiytnnhhn\" \n",
    "ch = {}\n",
    "for i in s:\n",
    "    if i in ch:\n",
    "        ch[i] += 1\n",
    "        print(ch[i])\n",
    "    else:\n",
    "        ch[i] = 1\n",
    "        print(ch[i],\"else\")\n",
    "# print(ch)\n",
    "#{'i': 4, 't': 2, 'n': 5, 'y': 1, 'h':2} \n",
    "max_char = max(ch, key = ch.get)\n",
    "print (max_char)"
   ]
  }
 ],
 "metadata": {
  "kernelspec": {
   "display_name": "Python 3",
   "language": "python",
   "name": "python3"
  },
  "language_info": {
   "codemirror_mode": {
    "name": "ipython",
    "version": 3
   },
   "file_extension": ".py",
   "mimetype": "text/x-python",
   "name": "python",
   "nbconvert_exporter": "python",
   "pygments_lexer": "ipython3",
   "version": "3.10.10"
  }
 },
 "nbformat": 4,
 "nbformat_minor": 2
}
