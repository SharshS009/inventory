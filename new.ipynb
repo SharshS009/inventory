{
 "cells": [
  {
   "cell_type": "code",
   "execution_count": 7,
   "metadata": {},
   "outputs": [
    {
     "name": "stdout",
     "output_type": "stream",
     "text": [
      "This a test string to test the candidate\n"
     ]
    }
   ],
   "source": [
    "input_ = \"This is a test string to test the candidate\"\n",
    "index = input_.find(\"is\")\n",
    "if index != -1:\n",
    "    result = input_[:index] + input_[index+len(\" is\"):]\n",
    "    print(result)\n",
    "else:\n",
    "    print(input_)\n",
    "    "
   ]
  },
  {
   "cell_type": "code",
   "execution_count": 14,
   "metadata": {},
   "outputs": [
    {
     "name": "stdout",
     "output_type": "stream",
     "text": [
      "Test for the entire class\n"
     ]
    }
   ],
   "source": [
    "input = \"Test for the whole class\"\n",
    "output = input.replace(\"whole\", \"entire\")\n",
    "print(output)\n"
   ]
  },
  {
   "cell_type": "code",
   "execution_count": 86,
   "metadata": {},
   "outputs": [
    {
     "ename": "TypeError",
     "evalue": "'str' object is not callable",
     "output_type": "error",
     "traceback": [
      "\u001b[1;31m---------------------------------------------------------------------------\u001b[0m",
      "\u001b[1;31mTypeError\u001b[0m                                 Traceback (most recent call last)",
      "Cell \u001b[1;32mIn[86], line 1\u001b[0m\n\u001b[1;32m----> 1\u001b[0m abc \u001b[38;5;241m=\u001b[39m \u001b[38;5;28mint\u001b[39m(\u001b[38;5;28;43minput\u001b[39;49m\u001b[43m(\u001b[49m\u001b[38;5;124;43m\"\u001b[39;49m\u001b[38;5;124;43mEnter any number\u001b[39;49m\u001b[38;5;124;43m\"\u001b[39;49m\u001b[43m)\u001b[49m)\n",
      "\u001b[1;31mTypeError\u001b[0m: 'str' object is not callable"
     ]
    }
   ],
   "source": [
    "abc = int(input(\"Enter any number\"))"
   ]
  },
  {
   "cell_type": "code",
   "execution_count": 79,
   "metadata": {},
   "outputs": [],
   "source": [
    "i = 4\n",
    "a = []\n",
    "def enter(i):\n",
    "    # Process\n",
    "    a.append(i)\n",
    "    # return i\n"
   ]
  },
  {
   "cell_type": "code",
   "execution_count": 54,
   "metadata": {},
   "outputs": [
    {
     "ename": "NameError",
     "evalue": "name 'enter' is not defined",
     "output_type": "error",
     "traceback": [
      "\u001b[1;31m---------------------------------------------------------------------------\u001b[0m",
      "\u001b[1;31mNameError\u001b[0m                                 Traceback (most recent call last)",
      "Cell \u001b[1;32mIn[54], line 1\u001b[0m\n\u001b[1;32m----> 1\u001b[0m \u001b[43menter\u001b[49m(\u001b[38;5;241m1\u001b[39m)\n\u001b[0;32m      2\u001b[0m enter(\u001b[38;5;241m2\u001b[39m)\n\u001b[0;32m      3\u001b[0m enter(\u001b[38;5;241m3\u001b[39m)\n",
      "\u001b[1;31mNameError\u001b[0m: name 'enter' is not defined"
     ]
    }
   ],
   "source": [
    "enter(1)\n",
    "enter(2)\n",
    "enter(3)\n",
    "\n",
    "status() == \"3 2 1\"\n",
    "\n",
    "exit() == 1\n",
    "exit() == 2\n",
    "exit() == 3"
   ]
  },
  {
   "cell_type": "code",
   "execution_count": 47,
   "metadata": {},
   "outputs": [
    {
     "data": {
      "text/plain": [
       "'Test for entire of class'"
      ]
     },
     "execution_count": 47,
     "metadata": {},
     "output_type": "execute_result"
    }
   ],
   "source": [
    "a = \"Test for whole of class\"\n",
    "c = \"whole\"\n",
    "b = a.find(c)\n",
    "d = len(c) + a.find(c)\n",
    "a[:b] +'entire' + a[d:]\n",
    "\n"
   ]
  },
  {
   "cell_type": "code",
   "execution_count": 42,
   "metadata": {},
   "outputs": [
    {
     "data": {
      "text/plain": [
       "5"
      ]
     },
     "execution_count": 42,
     "metadata": {},
     "output_type": "execute_result"
    }
   ],
   "source": []
  },
  {
   "cell_type": "code",
   "execution_count": 96,
   "metadata": {},
   "outputs": [],
   "source": [
    "# Inventory dictionary\n",
    "hw_inventory={\n",
    "    \"Tomato\": {\"price\": 10, \"Qty\": 2, \"Unit\": 'kg'},\n",
    "    \"Onion\": {\"price\": 20, \"Qty\": 3000, \"Unit\": 'g'},\n",
    "    \"Rawa\":{\"price\":30,\"Qty\":1000,\"Unit\":'g'}\n",
    "}\n",
    "\n",
    "# Menu dictionary\n",
    "hw_menu = {\n",
    "    \"Pizza\": {\n",
    "        \"ingredients\": (\"Tomato\", \"Onion\"),\n",
    "        \"quantities\": (300, 2),\n",
    "        \"units\": (\"g\", \"kg\")\n",
    "    },\n",
    "    \"Burger\": {\n",
    "        \"ingredients\": (\"Lettuce\", \"Onion\"),\n",
    "        \"quantities\": (300, 2),\n",
    "        \"units\": (\"g\", \"kg\")\n",
    "    },\n",
    "    \"Pani puri\": {\n",
    "        \"ingredients\": (\"Potato\", \"Rawa\"),\n",
    "        \"quantities\": (300, 2),\n",
    "        \"units\": (\"g\", \"kg\")\n",
    "    },\n",
    "}\n",
    "\n",
    "\n"
   ]
  },
  {
   "cell_type": "code",
   "execution_count": 116,
   "metadata": {},
   "outputs": [
    {
     "ename": "IndentationError",
     "evalue": "unindent does not match any outer indentation level (<string>, line 11)",
     "output_type": "error",
     "traceback": [
      "\u001b[1;36m  File \u001b[1;32m<string>:11\u001b[1;36m\u001b[0m\n\u001b[1;33m    else:\u001b[0m\n\u001b[1;37m         ^\u001b[0m\n\u001b[1;31mIndentationError\u001b[0m\u001b[1;31m:\u001b[0m unindent does not match any outer indentation level\n"
     ]
    }
   ],
   "source": [
    "item_name = 'Pizza'\n",
    "ingredient_name = hw_menu[item_name]['ingredients']\n",
    "qty_unit = hw_menu[item_name]['units'][1]\n",
    "qty_needed  = hw_menu[item_name]['quantities'][1]\n",
    "tmp = 0\n",
    "idx = -1\n",
    "element = 'onion'\n",
    "for i in ingredient_name:\n",
    "   if  i == element:\n",
    "     idx = tmp\n",
    "    else:\n",
    "     tmp+=1\n",
    "        if idx == -1:\n",
    "           print(\"Not found\")\n",
    "        else:\n",
    "            print(f\"Found at {idx} \")\n",
    "         if hw_menu[item_name]['ingredients'][1] in hw_inventory:\n",
    "            \n",
    "            if  qty_unit == 'kg':\n",
    "                qty_needed*=1000\n",
    "                if qty_needed <= hw_inventory['Rawa']['Qty']:\n",
    "                 print(\"Yes\")\n",
    "                else:\n",
    "                 print(\"No\")\n",
    "        else:\n",
    "          print(\"Not in inventory\")"
   ]
  },
  {
   "cell_type": "code",
   "execution_count": 2,
   "metadata": {},
   "outputs": [
    {
     "name": "stdout",
     "output_type": "stream",
     "text": [
      "Queue: [4, 5, 6]\n",
      "Exit sequence: [4, 5, 6]\n"
     ]
    }
   ],
   "source": [
    "# Define a Queue class\n",
    "class Queue:\n",
    "    # Constructor to initialize an empty queue\n",
    "    def __init__(self):\n",
    "        self.queue = []\n",
    "\n",
    "    # Method to add an item to the queue\n",
    "    def enter(self, item):\n",
    "        self.queue.append(item)\n",
    "\n",
    "    # Method to remove and return the first item from the queue\n",
    "    def exit(self):\n",
    "        if len(self.queue) > 0:\n",
    "            return self.queue.pop(0)\n",
    "        else:\n",
    "            return None\n",
    "\n",
    "# Create a Queue instance\n",
    "my_queue = Queue()\n",
    "\n",
    "# Enter sequence: 1, 2, 3\n",
    "my_queue.enter(1)\n",
    "my_queue.enter(2)\n",
    "my_queue.enter(3)\n",
    "\n",
    "# Display the queue\n",
    "print(\"Queue:\", my_queue.queue)  # Output: Queue: [1, 2, 3]\n",
    "\n",
    "# Exit sequence: 1, 2, 3\n",
    "exit_sequence = []\n",
    "while True:\n",
    "    item = my_queue.exit()\n",
    "    if item is None:\n",
    "        break\n",
    "    exit_sequence.append(item)\n",
    "\n",
    "# Display the exit sequence\n",
    "print(\"Exit sequence:\", exit_sequence)  # Output: Exit sequence: [1, 2, 3]\n"
   ]
  }
 ],
 "metadata": {
  "kernelspec": {
   "display_name": "Python 3",
   "language": "python",
   "name": "python3"
  },
  "language_info": {
   "codemirror_mode": {
    "name": "ipython",
    "version": 3
   },
   "file_extension": ".py",
   "mimetype": "text/x-python",
   "name": "python",
   "nbconvert_exporter": "python",
   "pygments_lexer": "ipython3",
   "version": "3.12.1"
  }
 },
 "nbformat": 4,
 "nbformat_minor": 2
}
