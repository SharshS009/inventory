{
 "cells": [
  {
   "cell_type": "code",
   "execution_count": 2,
   "metadata": {},
   "outputs": [
    {
     "name": "stdout",
     "output_type": "stream",
     "text": [
      "Values are: [1, 2, 3]\n",
      "After adding value list is: [1, 2, 3, 4, 5, 6]\n",
      "After removing value list is: [6, 5, 4]\n"
     ]
    }
   ],
   "source": [
    "N = int(input(\"Enter total numbers: \"))\n",
    "a = []\n",
    "for i in range(1, N+1):\n",
    "        i = int(input(\"Enter value:\"))\n",
    "        a.append(i)\n",
    "print(f\"Values are: {a}\")\n",
    "S = tuple(a[::-1])\n",
    "c = (input(\"Do you want to add value ?(yes/no):\"))\n",
    "if c == 'yes':\n",
    "    d = int(input(\"How many number u want to add: \"))\n",
    "    for i in range(1, d+1):\n",
    "        i = int(input(\"Enter value:\"))\n",
    "        a.append(i)\n",
    "    print(f\"After adding value list is: {a}\")\n",
    "e = (input(\"Do you want to remove value ?(yes/no):\"))\n",
    "if e == 'yes':\n",
    "    S = a[::-1]\n",
    "    g = int(input(\"Enter total number of values u want to delete: \"))\n",
    "    for f in range (1,g+1):\n",
    "        S.pop()     \n",
    "    print(f\"After removing value list is: {S}\") \n",
    "\n",
    "   \n",
    "\n"
   ]
  }
 ],
 "metadata": {
  "kernelspec": {
   "display_name": "Python 3",
   "language": "python",
   "name": "python3"
  },
  "language_info": {
   "codemirror_mode": {
    "name": "ipython",
    "version": 3
   },
   "file_extension": ".py",
   "mimetype": "text/x-python",
   "name": "python",
   "nbconvert_exporter": "python",
   "pygments_lexer": "ipython3",
   "version": "3.12.1"
  }
 },
 "nbformat": 4,
 "nbformat_minor": 2
}
