{
 "cells": [
  {
   "cell_type": "code",
   "execution_count": 1,
   "metadata": {},
   "outputs": [],
   "source": [
    "inventory={\n",
    "    'potato':[30,2,'kg'],\n",
    "    'tomato':[30,1,'kg'],\n",
    "    'onion':[20,3,'kg'],\n",
    "    'sauses':[50,5,'kg'],\n",
    "    'cheese':[100,2,'kg']\n",
    "}"
   ]
  },
  {
   "cell_type": "code",
   "execution_count": 2,
   "metadata": {},
   "outputs": [],
   "source": [
    "menu : dict={\n",
    "    'pizza':\n",
    "        (\n",
    "            {#ingrediant no :0\n",
    "                'ingrediant':'tomato',\n",
    "                'quantity':1000,\n",
    "                'unit':'gm'\n",
    "            },\n",
    "            {#ingrediant no :1\n",
    "                'ingrediant':'onion',\n",
    "                'quantity':1,\n",
    "                'unit':'kg'\n",
    "            },\n",
    "            {#ingrediant no :2\n",
    "                'ingrediant':'cheese',\n",
    "                'quantity':250,\n",
    "                'unit':'gm'\n",
    "            },\n",
    "            {#ingrediant no :3\n",
    "                'ingrediant':'sauses',\n",
    "                'quantity':2000,\n",
    "                'unit':'gm'   \n",
    "            }\n",
    "        )}"
   ]
  },
  {
   "cell_type": "code",
   "execution_count": 3,
   "metadata": {},
   "outputs": [
    {
     "name": "stdout",
     "output_type": "stream",
     "text": [
      "Doable\n",
      "price of onion  used in pizza is: 20\n"
     ]
    }
   ],
   "source": [
    "menu_item = 'pizza'\n",
    "menu_ingredient = 'onion'\n",
    "quantity_needed =1   # Quantity needed for the ingredient\n",
    "ingredient_no = 1   # Ingredient number in the menu\n",
    "\n",
    "\n",
    "if menu_ingredient in inventory:\n",
    "    if menu[menu_item][ingredient_no]['unit'] == 'gm':\n",
    "        # Convert quantity needed from grams to kilograms\n",
    "        quantity_needed /= 1000\n",
    "\n",
    "    if quantity_needed <= inventory[menu_ingredient][1]:\n",
    "        print(\"Doable\")\n",
    "        price = quantity_needed* inventory[menu_ingredient][0]\n",
    "        print(\"price of\",menu_ingredient,' used in pizza is:',price)\n",
    "    else:\n",
    "        print(\"Not Doable\")\n",
    "else:\n",
    "    print(\"Ingredient not found in inventory\")\n"
   ]
  }
 ],
 "metadata": {
  "kernelspec": {
   "display_name": "Python 3",
   "language": "python",
   "name": "python3"
  },
  "language_info": {
   "codemirror_mode": {
    "name": "ipython",
    "version": 3
   },
   "file_extension": ".py",
   "mimetype": "text/x-python",
   "name": "python",
   "nbconvert_exporter": "python",
   "pygments_lexer": "ipython3",
   "version": "3.12.1"
  }
 },
 "nbformat": 4,
 "nbformat_minor": 2
}
