{
 "cells": [
  {
   "cell_type": "code",
   "execution_count": 2,
   "metadata": {},
   "outputs": [],
   "source": [
    "# Inventory dictionary\n",
    "hw_inventory={\n",
    "    \"Tomato\": {\"price\": 10, \"Qty\": 2, \"Unit\": 'kg'},\n",
    "    \"Onion\": {\"price\": 20, \"Qty\": 3000, \"Unit\": 'g'},\n",
    "    \"Rawa\":{\"price\":30,\"Qty\":2000,\"Unit\":'g'}\n",
    "}\n",
    "\n",
    "# Menu dictionary\n",
    "hw_menu = {\n",
    "    \"Pizza\": {\n",
    "        \"ingredients\": (\"Tomato\", \"Onion\"),\n",
    "        \"quantities\": (300, 2),\n",
    "        \"units\": (\"g\", \"kg\")\n",
    "    },\n",
    "    \"Burger\": {\n",
    "        \"ingredients\": (\"Lettuce\", \"Onion\"),\n",
    "        \"quantities\": (300, 2),\n",
    "        \"units\": (\"g\", \"kg\")\n",
    "    },\n",
    "    \"Pani puri\": {\n",
    "        \"ingredients\": (\"Potato\", \"Rawa\"),\n",
    "        \"quantities\": (300, 2),\n",
    "        \"units\": (\"g\", \"kg\")\n",
    "    },\n",
    "}\n",
    "\n",
    "\n"
   ]
  },
  {
   "cell_type": "code",
   "execution_count": 4,
   "metadata": {},
   "outputs": [
    {
     "name": "stdout",
     "output_type": "stream",
     "text": [
      "Lettuce can not be found in inventory\n",
      "Not Doable\n"
     ]
    }
   ],
   "source": [
    "item_name = \"Burger\"\n",
    "ingredients = hw_menu[item_name][\"ingredients\"]\n",
    "quantities = hw_menu[item_name][\"quantities\"]\n",
    "units = hw_menu[item_name][\"units\"]\n",
    "test = ingredients\n",
    "doable = False\n",
    "for element in ingredients:\n",
    "    indx = -1\n",
    "    if element in hw_inventory:\n",
    "        tmp = 0\n",
    "        for i in test:\n",
    "            if i == element:\n",
    "                indx=tmp\n",
    "            else:\n",
    "                tmp+=1\n",
    "        if indx==-1:\n",
    "            print(\"not found\")\n",
    "            doable = False\n",
    "            break\n",
    "        else:\n",
    "            print(f'Founded a  t {indx}')\n",
    "            relevant_menu_qty= quantities[indx]\n",
    "            relevant_inventory_qty= hw_inventory[ingredients[indx]][\"Qty\"]\n",
    "            if hw_inventory[ingredients[indx]][\"Unit\"] == 'kg':\n",
    "                relevant_menu_qty *= 1000\n",
    "            if ingredients[indx] not in hw_inventory:\n",
    "                print(f\"{item_name} cannot be made: Missing {ingredients[0]}.\")\n",
    "                doable=False\n",
    "                break\n",
    "            if hw_inventory[ingredients[indx]][\"Unit\"] == 'kg':\n",
    "                relevant_inventory_qty *= 1000\n",
    "            if relevant_inventory_qty<relevant_menu_qty:\n",
    "                print(f\"{item_name} cannot be made: Insufficient quantity of {ingredients[0]}.\")\n",
    "                doable=False \n",
    "                break\n",
    "            else:\n",
    "                doable = True\n",
    "    else:\n",
    "        print(f\"{ingredients[0]} can not be found in inventory\")\n",
    "        doable = False\n",
    "        break\n",
    "        \n",
    "if doable == True:\n",
    "    print(\"DOable\")   \n",
    "else:\n",
    "    print(\"Not Doable\")    \n",
    "            \n"
   ]
  }
 ],
 "metadata": {
  "kernelspec": {
   "display_name": "Python 3",
   "language": "python",
   "name": "python3"
  },
  "language_info": {
   "codemirror_mode": {
    "name": "ipython",
    "version": 3
   },
   "file_extension": ".py",
   "mimetype": "text/x-python",
   "name": "python",
   "nbconvert_exporter": "python",
   "pygments_lexer": "ipython3",
   "version": "3.12.1"
  }
 },
 "nbformat": 4,
 "nbformat_minor": 2
}
